{
 "cells": [
  {
   "cell_type": "code",
   "execution_count": null,
   "id": "0d199408-c41a-4981-89cc-1203c27ce3f1",
   "metadata": {},
   "outputs": [],
   "source": [
    "cols = ['year', 'state', 'apple_sold', 'apple_stolen', 'pen_sold', 'pen_stolen']\n",
    "year_rows = []\n",
    "state = df_sell.sku_num[0][:2]\n",
    "\n",
    "cur_year = 2006\n",
    "supply_pens = 0\n",
    "supply_apples = 0\n",
    "\n",
    "for ind, x in enumerate(df_supply.values):\n",
    "    cur_date = x[0]\n",
    "    supply_apples += x[1]\n",
    "    supply_pens += x[2]\n",
    "    \n",
    "    if ind % 24 == 23:\n",
    "        # Date 'YYYY-MM-31'\n",
    "        cur_date = cur_date[:-2] + '31'\n",
    "\n",
    "        res_row = res_df[res_df.date == cur_date]\n",
    "        inv_row = df_inventory[df_inventory.date == cur_date]\n",
    "\n",
    "        if not res_row.empty and not inv_row.empty:\n",
    "            res_apples = int(res_row.iloc[0].apple)\n",
    "            res_pens = int(res_row.iloc[0].pen)\n",
    "            inv_apples = int(inv_row.iloc[0].apple)\n",
    "            inv_pens = int(inv_row.iloc[0].pen)\n",
    "\n",
    "            apple_sold = supply_apples - res_apples\n",
    "            pen_sold = supply_pens - res_pens\n",
    "            apple_stolen = res_apples - inv_apples\n",
    "            pen_stolen = res_pens - inv_pens\n",
    "\n",
    "            year_rows.append([cur_year, state, apple_sold, apple_stolen, pen_sold, pen_stolen])\n",
    "        \n",
    "        cur_year += 1\n",
    "\n",
    "year_df = pd.DataFrame(year_rows, columns=cols)\n",
    "year_df.head(10)"
   ]
  },
  {
   "cell_type": "code",
   "execution_count": null,
   "id": "05762e8d-7c0e-411b-b0cf-5f246c3889f3",
   "metadata": {},
   "outputs": [],
   "source": []
  }
 ],
 "metadata": {
  "kernelspec": {
   "display_name": "Python 3 (ipykernel)",
   "language": "python",
   "name": "python3"
  },
  "language_info": {
   "codemirror_mode": {
    "name": "ipython",
    "version": 3
   },
   "file_extension": ".py",
   "mimetype": "text/x-python",
   "name": "python",
   "nbconvert_exporter": "python",
   "pygments_lexer": "ipython3",
   "version": "3.12.1"
  }
 },
 "nbformat": 4,
 "nbformat_minor": 5
}
