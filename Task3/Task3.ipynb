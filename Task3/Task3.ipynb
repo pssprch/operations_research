{
 "cells": [
  {
   "cell_type": "markdown",
   "id": "8e348118-fbcb-4ef0-ae22-569c516ab1b0",
   "metadata": {},
   "source": [
    "## Аналитика цепочки поставок и потерь в розничной торговле"
   ]
  },
  {
   "cell_type": "markdown",
   "id": "7d715f06-1817-4c10-bc1f-ad26cf37b7f6",
   "metadata": {},
   "source": [
    "**Applepen** $-$ это большая торговая сеть, которая занимается продажей всего двух продуктов: **яблок** и **карандашей**.\n",
    "Ее магазины расположены в различных уголках Соединенных Штатов и более 10 лет обслуживают покупателей.\n",
    "\n",
    "Недавно топ-менеджмент компании решил более активно использовать имеющиеся у них данные в принятии решений.\n",
    "Каждый магазин собирает информацию о:\n",
    "\n",
    "1. закупках (поставки яблок и карандашей два раза в месяц),\n",
    "2. продажах (лог транзакций, по записи на каждую проданную позицию),\n",
    "3. инвентарь (месячные данные общего количества яблок и карандашей на складе)."
   ]
  },
  {
   "cell_type": "markdown",
   "id": "e0cb5ee6-a607-4cb9-a292-ecd5b84c51fb",
   "metadata": {},
   "source": [
    "#### Импорт необходимых библиотек"
   ]
  },
  {
   "cell_type": "code",
   "execution_count": 1,
   "id": "1bcd51f5-ca30-4b54-9b8a-45833c6991c9",
   "metadata": {},
   "outputs": [],
   "source": [
    "from pathlib import Path\n",
    "from IPython.display import display, Markdown\n",
    "import pandas as pd\n",
    "import numpy as np\n",
    "import csv\n",
    "import datetime"
   ]
  },
  {
   "cell_type": "markdown",
   "id": "e1f574b4-c557-4b43-93cb-932eeb8c85d7",
   "metadata": {},
   "source": [
    "#### Список всех .csv файлов"
   ]
  },
  {
   "cell_type": "code",
   "execution_count": 2,
   "id": "a31ab4f6-e680-414d-83ee-aa672123a4e6",
   "metadata": {},
   "outputs": [
    {
     "data": {
      "text/markdown": [
       "**MS-b1-inventory.csv**"
      ],
      "text/plain": [
       "<IPython.core.display.Markdown object>"
      ]
     },
     "metadata": {},
     "output_type": "display_data"
    },
    {
     "data": {
      "text/markdown": [
       "**MS-b1-sell.csv**"
      ],
      "text/plain": [
       "<IPython.core.display.Markdown object>"
      ]
     },
     "metadata": {},
     "output_type": "display_data"
    },
    {
     "data": {
      "text/markdown": [
       "**MS-b1-supply.csv**"
      ],
      "text/plain": [
       "<IPython.core.display.Markdown object>"
      ]
     },
     "metadata": {},
     "output_type": "display_data"
    },
    {
     "data": {
      "text/markdown": [
       "**MS-b2-inventory.csv**"
      ],
      "text/plain": [
       "<IPython.core.display.Markdown object>"
      ]
     },
     "metadata": {},
     "output_type": "display_data"
    },
    {
     "data": {
      "text/markdown": [
       "**MS-b2-sell.csv**"
      ],
      "text/plain": [
       "<IPython.core.display.Markdown object>"
      ]
     },
     "metadata": {},
     "output_type": "display_data"
    },
    {
     "data": {
      "text/markdown": [
       "**MS-b2-supply.csv**"
      ],
      "text/plain": [
       "<IPython.core.display.Markdown object>"
      ]
     },
     "metadata": {},
     "output_type": "display_data"
    },
    {
     "data": {
      "text/markdown": [
       "**MS-m1-inventory.csv**"
      ],
      "text/plain": [
       "<IPython.core.display.Markdown object>"
      ]
     },
     "metadata": {},
     "output_type": "display_data"
    },
    {
     "data": {
      "text/markdown": [
       "**MS-m1-sell.csv**"
      ],
      "text/plain": [
       "<IPython.core.display.Markdown object>"
      ]
     },
     "metadata": {},
     "output_type": "display_data"
    },
    {
     "data": {
      "text/markdown": [
       "**MS-m1-supply.csv**"
      ],
      "text/plain": [
       "<IPython.core.display.Markdown object>"
      ]
     },
     "metadata": {},
     "output_type": "display_data"
    },
    {
     "data": {
      "text/markdown": [
       "**MS-m2-inventory.csv**"
      ],
      "text/plain": [
       "<IPython.core.display.Markdown object>"
      ]
     },
     "metadata": {},
     "output_type": "display_data"
    },
    {
     "data": {
      "text/markdown": [
       "**MS-m2-sell.csv**"
      ],
      "text/plain": [
       "<IPython.core.display.Markdown object>"
      ]
     },
     "metadata": {},
     "output_type": "display_data"
    },
    {
     "data": {
      "text/markdown": [
       "**MS-m2-supply.csv**"
      ],
      "text/plain": [
       "<IPython.core.display.Markdown object>"
      ]
     },
     "metadata": {},
     "output_type": "display_data"
    },
    {
     "data": {
      "text/markdown": [
       "**MS-s1-inventory.csv**"
      ],
      "text/plain": [
       "<IPython.core.display.Markdown object>"
      ]
     },
     "metadata": {},
     "output_type": "display_data"
    },
    {
     "data": {
      "text/markdown": [
       "**MS-s1-sell.csv**"
      ],
      "text/plain": [
       "<IPython.core.display.Markdown object>"
      ]
     },
     "metadata": {},
     "output_type": "display_data"
    },
    {
     "data": {
      "text/markdown": [
       "**MS-s1-supply.csv**"
      ],
      "text/plain": [
       "<IPython.core.display.Markdown object>"
      ]
     },
     "metadata": {},
     "output_type": "display_data"
    },
    {
     "data": {
      "text/markdown": [
       "**MS-s2-inventory.csv**"
      ],
      "text/plain": [
       "<IPython.core.display.Markdown object>"
      ]
     },
     "metadata": {},
     "output_type": "display_data"
    },
    {
     "data": {
      "text/markdown": [
       "**MS-s2-sell.csv**"
      ],
      "text/plain": [
       "<IPython.core.display.Markdown object>"
      ]
     },
     "metadata": {},
     "output_type": "display_data"
    },
    {
     "data": {
      "text/markdown": [
       "**MS-s2-supply.csv**"
      ],
      "text/plain": [
       "<IPython.core.display.Markdown object>"
      ]
     },
     "metadata": {},
     "output_type": "display_data"
    },
    {
     "data": {
      "text/markdown": [
       "**MS-s3-inventory.csv**"
      ],
      "text/plain": [
       "<IPython.core.display.Markdown object>"
      ]
     },
     "metadata": {},
     "output_type": "display_data"
    },
    {
     "data": {
      "text/markdown": [
       "**MS-s3-sell.csv**"
      ],
      "text/plain": [
       "<IPython.core.display.Markdown object>"
      ]
     },
     "metadata": {},
     "output_type": "display_data"
    },
    {
     "data": {
      "text/markdown": [
       "**MS-s3-supply.csv**"
      ],
      "text/plain": [
       "<IPython.core.display.Markdown object>"
      ]
     },
     "metadata": {},
     "output_type": "display_data"
    },
    {
     "data": {
      "text/markdown": [
       "**MS-s4-inventory.csv**"
      ],
      "text/plain": [
       "<IPython.core.display.Markdown object>"
      ]
     },
     "metadata": {},
     "output_type": "display_data"
    },
    {
     "data": {
      "text/markdown": [
       "**MS-s4-sell.csv**"
      ],
      "text/plain": [
       "<IPython.core.display.Markdown object>"
      ]
     },
     "metadata": {},
     "output_type": "display_data"
    },
    {
     "data": {
      "text/markdown": [
       "**MS-s4-supply.csv**"
      ],
      "text/plain": [
       "<IPython.core.display.Markdown object>"
      ]
     },
     "metadata": {},
     "output_type": "display_data"
    },
    {
     "data": {
      "text/markdown": [
       "**MS-s5-inventory.csv**"
      ],
      "text/plain": [
       "<IPython.core.display.Markdown object>"
      ]
     },
     "metadata": {},
     "output_type": "display_data"
    },
    {
     "data": {
      "text/markdown": [
       "**MS-s5-sell.csv**"
      ],
      "text/plain": [
       "<IPython.core.display.Markdown object>"
      ]
     },
     "metadata": {},
     "output_type": "display_data"
    },
    {
     "data": {
      "text/markdown": [
       "**MS-s5-supply.csv**"
      ],
      "text/plain": [
       "<IPython.core.display.Markdown object>"
      ]
     },
     "metadata": {},
     "output_type": "display_data"
    }
   ],
   "source": [
    "folder_path = Path(\".\")\n",
    "csv_files = sorted([f.name for f in folder_path.glob(\"*.csv\")])\n",
    "\n",
    "for file in csv_files:\n",
    "    display(Markdown(f\"**{file}**\"))"
   ]
  },
  {
   "cell_type": "markdown",
   "id": "5da4c23e-6835-46fc-b455-2f4ae606eca9",
   "metadata": {},
   "source": [
    "#### Обработка файлов"
   ]
  },
  {
   "cell_type": "markdown",
   "id": "591c4650-312f-49b0-ab14-d5c9bc4ef15f",
   "metadata": {},
   "source": [
    "Рассматрим на примере трех файлов (MS-b1-supply.csv, MS-b1-inventory.csv, MS-b1-sell.csv), содержимое по файлам с информацией о закупках, продажах и инвентаре. С помощью цикла считаем каждый файл в отдельный DataFrame и выводим первые 5 строк (метод head()) для первичной проверки содержимого таблиц. Это помогает убедиться, что данные считались корректно и готовы к дальнейшей обработке."
   ]
  },
  {
   "cell_type": "code",
   "execution_count": 3,
   "id": "fb3d6851-bf3c-47ea-99db-068b4dd070f1",
   "metadata": {},
   "outputs": [
    {
     "data": {
      "text/markdown": [
       "**Файл df_supply (первые 5 строк):**"
      ],
      "text/plain": [
       "<IPython.core.display.Markdown object>"
      ]
     },
     "metadata": {},
     "output_type": "display_data"
    },
    {
     "data": {
      "text/html": [
       "<div>\n",
       "<style scoped>\n",
       "    .dataframe tbody tr th:only-of-type {\n",
       "        vertical-align: middle;\n",
       "    }\n",
       "\n",
       "    .dataframe tbody tr th {\n",
       "        vertical-align: top;\n",
       "    }\n",
       "\n",
       "    .dataframe thead th {\n",
       "        text-align: right;\n",
       "    }\n",
       "</style>\n",
       "<table border=\"1\" class=\"dataframe\">\n",
       "  <thead>\n",
       "    <tr style=\"text-align: right;\">\n",
       "      <th></th>\n",
       "      <th>date</th>\n",
       "      <th>apple</th>\n",
       "      <th>pen</th>\n",
       "    </tr>\n",
       "  </thead>\n",
       "  <tbody>\n",
       "    <tr>\n",
       "      <th>0</th>\n",
       "      <td>2006-01-01</td>\n",
       "      <td>35086</td>\n",
       "      <td>2730</td>\n",
       "    </tr>\n",
       "    <tr>\n",
       "      <th>1</th>\n",
       "      <td>2006-01-15</td>\n",
       "      <td>35002</td>\n",
       "      <td>2625</td>\n",
       "    </tr>\n",
       "    <tr>\n",
       "      <th>2</th>\n",
       "      <td>2006-02-01</td>\n",
       "      <td>34963</td>\n",
       "      <td>2759</td>\n",
       "    </tr>\n",
       "    <tr>\n",
       "      <th>3</th>\n",
       "      <td>2006-02-15</td>\n",
       "      <td>34869</td>\n",
       "      <td>2715</td>\n",
       "    </tr>\n",
       "    <tr>\n",
       "      <th>4</th>\n",
       "      <td>2006-03-01</td>\n",
       "      <td>35188</td>\n",
       "      <td>2599</td>\n",
       "    </tr>\n",
       "  </tbody>\n",
       "</table>\n",
       "</div>"
      ],
      "text/plain": [
       "         date  apple   pen\n",
       "0  2006-01-01  35086  2730\n",
       "1  2006-01-15  35002  2625\n",
       "2  2006-02-01  34963  2759\n",
       "3  2006-02-15  34869  2715\n",
       "4  2006-03-01  35188  2599"
      ]
     },
     "metadata": {},
     "output_type": "display_data"
    },
    {
     "data": {
      "text/markdown": [
       "**Файл df_inventory (первые 5 строк):**"
      ],
      "text/plain": [
       "<IPython.core.display.Markdown object>"
      ]
     },
     "metadata": {},
     "output_type": "display_data"
    },
    {
     "data": {
      "text/html": [
       "<div>\n",
       "<style scoped>\n",
       "    .dataframe tbody tr th:only-of-type {\n",
       "        vertical-align: middle;\n",
       "    }\n",
       "\n",
       "    .dataframe tbody tr th {\n",
       "        vertical-align: top;\n",
       "    }\n",
       "\n",
       "    .dataframe thead th {\n",
       "        text-align: right;\n",
       "    }\n",
       "</style>\n",
       "<table border=\"1\" class=\"dataframe\">\n",
       "  <thead>\n",
       "    <tr style=\"text-align: right;\">\n",
       "      <th></th>\n",
       "      <th>date</th>\n",
       "      <th>apple</th>\n",
       "      <th>pen</th>\n",
       "    </tr>\n",
       "  </thead>\n",
       "  <tbody>\n",
       "    <tr>\n",
       "      <th>0</th>\n",
       "      <td>2006-01-31</td>\n",
       "      <td>12157</td>\n",
       "      <td>811</td>\n",
       "    </tr>\n",
       "    <tr>\n",
       "      <th>1</th>\n",
       "      <td>2006-02-28</td>\n",
       "      <td>29859</td>\n",
       "      <td>2280</td>\n",
       "    </tr>\n",
       "    <tr>\n",
       "      <th>2</th>\n",
       "      <td>2006-03-31</td>\n",
       "      <td>42135</td>\n",
       "      <td>3317</td>\n",
       "    </tr>\n",
       "    <tr>\n",
       "      <th>3</th>\n",
       "      <td>2006-04-30</td>\n",
       "      <td>55235</td>\n",
       "      <td>4094</td>\n",
       "    </tr>\n",
       "    <tr>\n",
       "      <th>4</th>\n",
       "      <td>2006-05-31</td>\n",
       "      <td>66963</td>\n",
       "      <td>5158</td>\n",
       "    </tr>\n",
       "  </tbody>\n",
       "</table>\n",
       "</div>"
      ],
      "text/plain": [
       "         date  apple   pen\n",
       "0  2006-01-31  12157   811\n",
       "1  2006-02-28  29859  2280\n",
       "2  2006-03-31  42135  3317\n",
       "3  2006-04-30  55235  4094\n",
       "4  2006-05-31  66963  5158"
      ]
     },
     "metadata": {},
     "output_type": "display_data"
    },
    {
     "data": {
      "text/markdown": [
       "**Файл df_sell (первые 5 строк):**"
      ],
      "text/plain": [
       "<IPython.core.display.Markdown object>"
      ]
     },
     "metadata": {},
     "output_type": "display_data"
    },
    {
     "data": {
      "text/html": [
       "<div>\n",
       "<style scoped>\n",
       "    .dataframe tbody tr th:only-of-type {\n",
       "        vertical-align: middle;\n",
       "    }\n",
       "\n",
       "    .dataframe tbody tr th {\n",
       "        vertical-align: top;\n",
       "    }\n",
       "\n",
       "    .dataframe thead th {\n",
       "        text-align: right;\n",
       "    }\n",
       "</style>\n",
       "<table border=\"1\" class=\"dataframe\">\n",
       "  <thead>\n",
       "    <tr style=\"text-align: right;\">\n",
       "      <th></th>\n",
       "      <th>date</th>\n",
       "      <th>sku_num</th>\n",
       "    </tr>\n",
       "  </thead>\n",
       "  <tbody>\n",
       "    <tr>\n",
       "      <th>0</th>\n",
       "      <td>2006-01-01</td>\n",
       "      <td>MS-b1-ap-48914c5b-14d2-4b20-bdaf-b2ff5d9f4f0c</td>\n",
       "    </tr>\n",
       "    <tr>\n",
       "      <th>1</th>\n",
       "      <td>2006-01-01</td>\n",
       "      <td>MS-b1-ap-6baf7287-3e6a-4728-a3b1-8613de51eef8</td>\n",
       "    </tr>\n",
       "    <tr>\n",
       "      <th>2</th>\n",
       "      <td>2006-01-01</td>\n",
       "      <td>MS-b1-ap-83d7b005-c7d9-4deb-93a2-a8f7606d02b5</td>\n",
       "    </tr>\n",
       "    <tr>\n",
       "      <th>3</th>\n",
       "      <td>2006-01-01</td>\n",
       "      <td>MS-b1-ap-9099c5de-028d-4b07-97be-6f6532b8674a</td>\n",
       "    </tr>\n",
       "    <tr>\n",
       "      <th>4</th>\n",
       "      <td>2006-01-01</td>\n",
       "      <td>MS-b1-ap-ee0ce843-a979-4798-a542-75a41d1610c3</td>\n",
       "    </tr>\n",
       "  </tbody>\n",
       "</table>\n",
       "</div>"
      ],
      "text/plain": [
       "         date                                        sku_num\n",
       "0  2006-01-01  MS-b1-ap-48914c5b-14d2-4b20-bdaf-b2ff5d9f4f0c\n",
       "1  2006-01-01  MS-b1-ap-6baf7287-3e6a-4728-a3b1-8613de51eef8\n",
       "2  2006-01-01  MS-b1-ap-83d7b005-c7d9-4deb-93a2-a8f7606d02b5\n",
       "3  2006-01-01  MS-b1-ap-9099c5de-028d-4b07-97be-6f6532b8674a\n",
       "4  2006-01-01  MS-b1-ap-ee0ce843-a979-4798-a542-75a41d1610c3"
      ]
     },
     "metadata": {},
     "output_type": "display_data"
    }
   ],
   "source": [
    "files = {\n",
    "    'df_supply': 'MS-b1-supply.csv',\n",
    "    'df_inventory': 'MS-b1-inventory.csv',\n",
    "    'df_sell': 'MS-b1-sell.csv'\n",
    "}\n",
    "\n",
    "dataframes = {}\n",
    "\n",
    "for name, path in files.items():\n",
    "    df = pd.read_csv(path)\n",
    "    dataframes[name] = df\n",
    "    display(Markdown(f\"**Файл {name} (первые 5 строк):**\"))\n",
    "    display(df.head())"
   ]
  },
  {
   "cell_type": "markdown",
   "id": "272dbab6-0bd9-4aca-9772-8ee6149a57ab",
   "metadata": {},
   "source": [
    "### Задание 1. Состояние склада на каждый день\n",
    "Данные о состоянии склада в конце каждого дня после того как все поставки и продажы были совершены.\n",
    "Подобная информация будет очень ценна менеджерам магазинов.\n",
    "Состояние склада должно строится на основне месячных данных об инвентаре.\n",
    "Известно, что люди воруют из магазинов, но сейчас нет никакой возможности узнать объем сворованного товара."
   ]
  },
  {
   "cell_type": "markdown",
   "id": "5b2b15af-39ed-4cd4-9db8-c24e3bb596a4",
   "metadata": {},
   "source": [
    "#### Выбираем нужный магазин"
   ]
  },
  {
   "cell_type": "markdown",
   "id": "f7c9ab11-51a9-4175-bd9e-581a5814c4ca",
   "metadata": {},
   "source": [
    "Функция load_store_data загружает CSV-файлы для заданного магазина (через его код в названии файла).  \n",
    "Аргумент:\n",
    "store_code (str): код магазина, например 'b1', 'm2', 's4'  \n",
    "Возвращает:  \n",
    "df_supply, df_inventory, df_sell — три DataFrame"
   ]
  },
  {
   "cell_type": "code",
   "execution_count": 4,
   "id": "20938938-8c5b-4949-96b2-c57bee066892",
   "metadata": {},
   "outputs": [],
   "source": [
    "def load_store_data(store_code):\n",
    "    prefix = f'MS-{store_code}'\n",
    "    df_supply = pd.read_csv(f'{prefix}-supply.csv')\n",
    "    df_inventory = pd.read_csv(f'{prefix}-inventory.csv')\n",
    "    df_sell = pd.read_csv(f'{prefix}-sell.csv')\n",
    "    \n",
    "    return df_supply, df_inventory, df_sell"
   ]
  },
  {
   "cell_type": "markdown",
   "id": "eed7c882-f80e-4aae-b051-41fc3969203e",
   "metadata": {},
   "source": [
    "Для примера возьмем магазин с кодом b1. Проверим, что нужные файлы загрузились (выводим первые 5 строчек)."
   ]
  },
  {
   "cell_type": "code",
   "execution_count": 5,
   "id": "17ea6d41-d332-4503-baa7-15e37e4c5301",
   "metadata": {},
   "outputs": [
    {
     "data": {
      "text/html": [
       "<div>\n",
       "<style scoped>\n",
       "    .dataframe tbody tr th:only-of-type {\n",
       "        vertical-align: middle;\n",
       "    }\n",
       "\n",
       "    .dataframe tbody tr th {\n",
       "        vertical-align: top;\n",
       "    }\n",
       "\n",
       "    .dataframe thead th {\n",
       "        text-align: right;\n",
       "    }\n",
       "</style>\n",
       "<table border=\"1\" class=\"dataframe\">\n",
       "  <thead>\n",
       "    <tr style=\"text-align: right;\">\n",
       "      <th></th>\n",
       "      <th>date</th>\n",
       "      <th>apple</th>\n",
       "      <th>pen</th>\n",
       "    </tr>\n",
       "  </thead>\n",
       "  <tbody>\n",
       "    <tr>\n",
       "      <th>0</th>\n",
       "      <td>2006-01-01</td>\n",
       "      <td>35086</td>\n",
       "      <td>2730</td>\n",
       "    </tr>\n",
       "    <tr>\n",
       "      <th>1</th>\n",
       "      <td>2006-01-15</td>\n",
       "      <td>35002</td>\n",
       "      <td>2625</td>\n",
       "    </tr>\n",
       "    <tr>\n",
       "      <th>2</th>\n",
       "      <td>2006-02-01</td>\n",
       "      <td>34963</td>\n",
       "      <td>2759</td>\n",
       "    </tr>\n",
       "    <tr>\n",
       "      <th>3</th>\n",
       "      <td>2006-02-15</td>\n",
       "      <td>34869</td>\n",
       "      <td>2715</td>\n",
       "    </tr>\n",
       "    <tr>\n",
       "      <th>4</th>\n",
       "      <td>2006-03-01</td>\n",
       "      <td>35188</td>\n",
       "      <td>2599</td>\n",
       "    </tr>\n",
       "  </tbody>\n",
       "</table>\n",
       "</div>"
      ],
      "text/plain": [
       "         date  apple   pen\n",
       "0  2006-01-01  35086  2730\n",
       "1  2006-01-15  35002  2625\n",
       "2  2006-02-01  34963  2759\n",
       "3  2006-02-15  34869  2715\n",
       "4  2006-03-01  35188  2599"
      ]
     },
     "metadata": {},
     "output_type": "display_data"
    },
    {
     "data": {
      "text/html": [
       "<div>\n",
       "<style scoped>\n",
       "    .dataframe tbody tr th:only-of-type {\n",
       "        vertical-align: middle;\n",
       "    }\n",
       "\n",
       "    .dataframe tbody tr th {\n",
       "        vertical-align: top;\n",
       "    }\n",
       "\n",
       "    .dataframe thead th {\n",
       "        text-align: right;\n",
       "    }\n",
       "</style>\n",
       "<table border=\"1\" class=\"dataframe\">\n",
       "  <thead>\n",
       "    <tr style=\"text-align: right;\">\n",
       "      <th></th>\n",
       "      <th>date</th>\n",
       "      <th>apple</th>\n",
       "      <th>pen</th>\n",
       "    </tr>\n",
       "  </thead>\n",
       "  <tbody>\n",
       "    <tr>\n",
       "      <th>0</th>\n",
       "      <td>2006-01-31</td>\n",
       "      <td>12157</td>\n",
       "      <td>811</td>\n",
       "    </tr>\n",
       "    <tr>\n",
       "      <th>1</th>\n",
       "      <td>2006-02-28</td>\n",
       "      <td>29859</td>\n",
       "      <td>2280</td>\n",
       "    </tr>\n",
       "    <tr>\n",
       "      <th>2</th>\n",
       "      <td>2006-03-31</td>\n",
       "      <td>42135</td>\n",
       "      <td>3317</td>\n",
       "    </tr>\n",
       "    <tr>\n",
       "      <th>3</th>\n",
       "      <td>2006-04-30</td>\n",
       "      <td>55235</td>\n",
       "      <td>4094</td>\n",
       "    </tr>\n",
       "    <tr>\n",
       "      <th>4</th>\n",
       "      <td>2006-05-31</td>\n",
       "      <td>66963</td>\n",
       "      <td>5158</td>\n",
       "    </tr>\n",
       "  </tbody>\n",
       "</table>\n",
       "</div>"
      ],
      "text/plain": [
       "         date  apple   pen\n",
       "0  2006-01-31  12157   811\n",
       "1  2006-02-28  29859  2280\n",
       "2  2006-03-31  42135  3317\n",
       "3  2006-04-30  55235  4094\n",
       "4  2006-05-31  66963  5158"
      ]
     },
     "metadata": {},
     "output_type": "display_data"
    },
    {
     "data": {
      "text/html": [
       "<div>\n",
       "<style scoped>\n",
       "    .dataframe tbody tr th:only-of-type {\n",
       "        vertical-align: middle;\n",
       "    }\n",
       "\n",
       "    .dataframe tbody tr th {\n",
       "        vertical-align: top;\n",
       "    }\n",
       "\n",
       "    .dataframe thead th {\n",
       "        text-align: right;\n",
       "    }\n",
       "</style>\n",
       "<table border=\"1\" class=\"dataframe\">\n",
       "  <thead>\n",
       "    <tr style=\"text-align: right;\">\n",
       "      <th></th>\n",
       "      <th>date</th>\n",
       "      <th>sku_num</th>\n",
       "    </tr>\n",
       "  </thead>\n",
       "  <tbody>\n",
       "    <tr>\n",
       "      <th>0</th>\n",
       "      <td>2006-01-01</td>\n",
       "      <td>MS-b1-ap-48914c5b-14d2-4b20-bdaf-b2ff5d9f4f0c</td>\n",
       "    </tr>\n",
       "    <tr>\n",
       "      <th>1</th>\n",
       "      <td>2006-01-01</td>\n",
       "      <td>MS-b1-ap-6baf7287-3e6a-4728-a3b1-8613de51eef8</td>\n",
       "    </tr>\n",
       "    <tr>\n",
       "      <th>2</th>\n",
       "      <td>2006-01-01</td>\n",
       "      <td>MS-b1-ap-83d7b005-c7d9-4deb-93a2-a8f7606d02b5</td>\n",
       "    </tr>\n",
       "    <tr>\n",
       "      <th>3</th>\n",
       "      <td>2006-01-01</td>\n",
       "      <td>MS-b1-ap-9099c5de-028d-4b07-97be-6f6532b8674a</td>\n",
       "    </tr>\n",
       "    <tr>\n",
       "      <th>4</th>\n",
       "      <td>2006-01-01</td>\n",
       "      <td>MS-b1-ap-ee0ce843-a979-4798-a542-75a41d1610c3</td>\n",
       "    </tr>\n",
       "  </tbody>\n",
       "</table>\n",
       "</div>"
      ],
      "text/plain": [
       "         date                                        sku_num\n",
       "0  2006-01-01  MS-b1-ap-48914c5b-14d2-4b20-bdaf-b2ff5d9f4f0c\n",
       "1  2006-01-01  MS-b1-ap-6baf7287-3e6a-4728-a3b1-8613de51eef8\n",
       "2  2006-01-01  MS-b1-ap-83d7b005-c7d9-4deb-93a2-a8f7606d02b5\n",
       "3  2006-01-01  MS-b1-ap-9099c5de-028d-4b07-97be-6f6532b8674a\n",
       "4  2006-01-01  MS-b1-ap-ee0ce843-a979-4798-a542-75a41d1610c3"
      ]
     },
     "metadata": {},
     "output_type": "display_data"
    }
   ],
   "source": [
    "store = 'b1'\n",
    "\n",
    "df_supply, df_inventory, df_sell = load_store_data(store)\n",
    "\n",
    "display(df_supply.head())\n",
    "display(df_inventory.head())\n",
    "display(df_sell.head())"
   ]
  },
  {
   "cell_type": "markdown",
   "id": "de812928-4ddf-4974-a0f0-6024b2878ba7",
   "metadata": {},
   "source": [
    "Функция calculate_daily_inventory рассчитывает ежедневное состояние склада магазина на основе данных о поставках, продажах и инвентаре.   \n",
    "Для этого она использует данные о продажах и поставках. Каждый день:  \n",
    "\t•\tиз остатков вычитаются проданные товары,  \n",
    "\t•\tприбавляются новые поставки (если были),  \n",
    "\t•\tзатем сохраняется итоговое количество на складе.  \n",
    "В конце получается таблица, где указано, сколько товара было на складе в каждый день."
   ]
  },
  {
   "cell_type": "code",
   "execution_count": 6,
   "id": "0da6fc34-b54f-4fa6-80fe-4103b60f888e",
   "metadata": {},
   "outputs": [],
   "source": [
    "def calculate_daily_inventory(df_supply, df_inventory, df_sell):\n",
    "    apple_stock = 0\n",
    "    pen_stock = 0\n",
    "\n",
    "    result_rows = []\n",
    "\n",
    "    prev_date = df_sell.iloc[0]['date']\n",
    "\n",
    "    for sale in df_sell.itertuples(index=False):\n",
    "        cur_date, sku = sale.date, sale.sku_num\n",
    "        item_code = sku[6:8]  # код товара, 'ap' или 'pe', яблоки или карандаши\n",
    "\n",
    "        if cur_date != prev_date:\n",
    "            daily_supply = df_supply[df_supply['date'] == prev_date]\n",
    "            if not daily_supply.empty:\n",
    "                apple_stock += int(daily_supply.iloc[0]['apple'])\n",
    "                pen_stock += int(daily_supply.iloc[0]['pen'])\n",
    "\n",
    "            result_rows.append([prev_date, apple_stock, pen_stock])\n",
    "            prev_date = cur_date\n",
    "\n",
    "        if item_code == 'ap':\n",
    "            apple_stock -= 1\n",
    "        elif item_code == 'pe':\n",
    "            pen_stock -= 1\n",
    "\n",
    "    \n",
    "    daily_supply = df_supply[df_supply['date'] == cur_date]\n",
    "    if not daily_supply.empty:\n",
    "        apple_stock += int(daily_supply.iloc[0]['apple'])\n",
    "        pen_stock += int(daily_supply.iloc[0]['pen'])\n",
    "\n",
    "    result_rows.append([cur_date, apple_stock, pen_stock])\n",
    "\n",
    "    result_df = pd.DataFrame(result_rows, columns=['date', 'apple', 'pen'])\n",
    "    return result_df"
   ]
  },
  {
   "cell_type": "markdown",
   "id": "364ea34c-2a30-4207-961a-19de3a79d511",
   "metadata": {},
   "source": [
    "Применим функцию для магазина b1:"
   ]
  },
  {
   "cell_type": "code",
   "execution_count": 7,
   "id": "b6eb37e6-64d8-4402-be15-e7751d8657fc",
   "metadata": {},
   "outputs": [
    {
     "data": {
      "text/html": [
       "<div>\n",
       "<style scoped>\n",
       "    .dataframe tbody tr th:only-of-type {\n",
       "        vertical-align: middle;\n",
       "    }\n",
       "\n",
       "    .dataframe tbody tr th {\n",
       "        vertical-align: top;\n",
       "    }\n",
       "\n",
       "    .dataframe thead th {\n",
       "        text-align: right;\n",
       "    }\n",
       "</style>\n",
       "<table border=\"1\" class=\"dataframe\">\n",
       "  <thead>\n",
       "    <tr style=\"text-align: right;\">\n",
       "      <th></th>\n",
       "      <th>date</th>\n",
       "      <th>apple</th>\n",
       "      <th>pen</th>\n",
       "    </tr>\n",
       "  </thead>\n",
       "  <tbody>\n",
       "    <tr>\n",
       "      <th>0</th>\n",
       "      <td>2006-01-01</td>\n",
       "      <td>33271</td>\n",
       "      <td>2574</td>\n",
       "    </tr>\n",
       "    <tr>\n",
       "      <th>1</th>\n",
       "      <td>2006-01-02</td>\n",
       "      <td>31409</td>\n",
       "      <td>2431</td>\n",
       "    </tr>\n",
       "    <tr>\n",
       "      <th>2</th>\n",
       "      <td>2006-01-03</td>\n",
       "      <td>29529</td>\n",
       "      <td>2260</td>\n",
       "    </tr>\n",
       "    <tr>\n",
       "      <th>3</th>\n",
       "      <td>2006-01-04</td>\n",
       "      <td>27732</td>\n",
       "      <td>2107</td>\n",
       "    </tr>\n",
       "    <tr>\n",
       "      <th>4</th>\n",
       "      <td>2006-01-05</td>\n",
       "      <td>25790</td>\n",
       "      <td>1974</td>\n",
       "    </tr>\n",
       "  </tbody>\n",
       "</table>\n",
       "</div>"
      ],
      "text/plain": [
       "         date  apple   pen\n",
       "0  2006-01-01  33271  2574\n",
       "1  2006-01-02  31409  2431\n",
       "2  2006-01-03  29529  2260\n",
       "3  2006-01-04  27732  2107\n",
       "4  2006-01-05  25790  1974"
      ]
     },
     "execution_count": 7,
     "metadata": {},
     "output_type": "execute_result"
    }
   ],
   "source": [
    "daily_inventory_b1 = calculate_daily_inventory(df_supply, df_inventory, df_sell)\n",
    "daily_inventory_b1.head()"
   ]
  },
  {
   "cell_type": "markdown",
   "id": "a87b49d7-ddaa-44f9-b149-9e7e89fbc8ce",
   "metadata": {},
   "source": [
    "### Задание 2. Месячные данные о количестве сворованного товара"
   ]
  },
  {
   "cell_type": "markdown",
   "id": "55e1e114-a9ba-493b-9bbb-ab8699e6ff7c",
   "metadata": {},
   "source": [
    "Функция get_stolen считает, сколько товара (отдельно яблок и карандашей) было украдено каждый месяц из выбранного магазина (выше выбран для примера магазин b1)."
   ]
  },
  {
   "cell_type": "code",
   "execution_count": 8,
   "id": "6b6a11ab-5a5f-429b-991f-885e25ce7eff",
   "metadata": {},
   "outputs": [],
   "source": [
    "def get_stolen(df_inventory, df_daily):\n",
    "\n",
    "    stolen_rows = []\n",
    "    stolen_apples_total = 0\n",
    "    stolen_pens_total = 0\n",
    "\n",
    "    for row in df_inventory.itertuples(index=False):\n",
    "        date = row.date\n",
    "        expected_apples = row.apple\n",
    "        expected_pens = row.pen\n",
    "\n",
    "        actual = df_daily[df_daily.date == date]\n",
    "\n",
    "        if not actual.empty:\n",
    "            real_apples = int(actual.iloc[0].apple)\n",
    "            real_pens = int(actual.iloc[0].pen)\n",
    "        else:\n",
    "            real_apples = 0\n",
    "            real_pens = 0\n",
    "\n",
    "        stolen_apples = real_apples - expected_apples - stolen_apples_total\n",
    "        stolen_pens = real_pens - expected_pens - stolen_pens_total\n",
    "\n",
    "        stolen_rows.append([date, stolen_apples, stolen_pens])\n",
    "\n",
    "        stolen_apples_total += stolen_apples\n",
    "        stolen_pens_total += stolen_pens\n",
    "\n",
    "    return pd.DataFrame(stolen_rows, columns=['date', 'apple', 'pen'])"
   ]
  },
  {
   "cell_type": "code",
   "execution_count": 9,
   "id": "fd831156-e4c7-4494-a997-c0c6cb25739e",
   "metadata": {},
   "outputs": [
    {
     "data": {
      "text/html": [
       "<div>\n",
       "<style scoped>\n",
       "    .dataframe tbody tr th:only-of-type {\n",
       "        vertical-align: middle;\n",
       "    }\n",
       "\n",
       "    .dataframe tbody tr th {\n",
       "        vertical-align: top;\n",
       "    }\n",
       "\n",
       "    .dataframe thead th {\n",
       "        text-align: right;\n",
       "    }\n",
       "</style>\n",
       "<table border=\"1\" class=\"dataframe\">\n",
       "  <thead>\n",
       "    <tr style=\"text-align: right;\">\n",
       "      <th></th>\n",
       "      <th>date</th>\n",
       "      <th>apple</th>\n",
       "      <th>pen</th>\n",
       "    </tr>\n",
       "  </thead>\n",
       "  <tbody>\n",
       "    <tr>\n",
       "      <th>0</th>\n",
       "      <td>2006-01-31</td>\n",
       "      <td>10</td>\n",
       "      <td>11</td>\n",
       "    </tr>\n",
       "    <tr>\n",
       "      <th>1</th>\n",
       "      <td>2006-02-28</td>\n",
       "      <td>6</td>\n",
       "      <td>6</td>\n",
       "    </tr>\n",
       "    <tr>\n",
       "      <th>2</th>\n",
       "      <td>2006-03-31</td>\n",
       "      <td>7</td>\n",
       "      <td>6</td>\n",
       "    </tr>\n",
       "    <tr>\n",
       "      <th>3</th>\n",
       "      <td>2006-04-30</td>\n",
       "      <td>6</td>\n",
       "      <td>14</td>\n",
       "    </tr>\n",
       "    <tr>\n",
       "      <th>4</th>\n",
       "      <td>2006-05-31</td>\n",
       "      <td>8</td>\n",
       "      <td>1</td>\n",
       "    </tr>\n",
       "  </tbody>\n",
       "</table>\n",
       "</div>"
      ],
      "text/plain": [
       "         date  apple  pen\n",
       "0  2006-01-31     10   11\n",
       "1  2006-02-28      6    6\n",
       "2  2006-03-31      7    6\n",
       "3  2006-04-30      6   14\n",
       "4  2006-05-31      8    1"
      ]
     },
     "execution_count": 9,
     "metadata": {},
     "output_type": "execute_result"
    }
   ],
   "source": [
    "stolen_b1 = get_stolen(df_inventory, daily_inventory_b1)\n",
    "\n",
    "stolen_b1.head()"
   ]
  },
  {
   "cell_type": "markdown",
   "id": "904f975e-d4c1-44e8-ad10-7e23ae1109f9",
   "metadata": {},
   "source": [
    "### Задание 3. Агрегированные данные об объемах продаж и количестве сворованной продукции по штату и году"
   ]
  },
  {
   "cell_type": "markdown",
   "id": "8460894a-cec2-4205-993f-59de0b04e5bb",
   "metadata": {},
   "source": [
    "Сначала получаем ежедневные остатки и данные о кражах из магазина. Из названия файла извлекаем название штата (state).     \n",
    "Делаем таблицу с колонками ['year', 'state', 'apple_sold', 'apple_stolen', 'pen_sold', 'pen_stolen'].   \n",
    "Код ниже считает, сколько яблок и карандашей было продано и украдено за каждый год для одного магазина. Он использует ранее рассчитанные данные (в функциях выше, Задание 1 и Задание 2): ежедневные остатки и количество краж по месяцам.    \n",
    "В результате получается таблица с годовой сводкой по продажам и потерям (украдено) товара."
   ]
  },
  {
   "cell_type": "code",
   "execution_count": 10,
   "id": "ea8f455c-3b95-4006-832b-6a241763f6f3",
   "metadata": {},
   "outputs": [],
   "source": [
    "df_daily = calculate_daily_inventory(df_supply, df_inventory, df_sell)\n",
    "df_stolen = get_stolen(df_inventory, df_daily)"
   ]
  },
  {
   "cell_type": "code",
   "execution_count": 11,
   "id": "120373ba-e74a-4004-9217-ced6515fcbb1",
   "metadata": {},
   "outputs": [],
   "source": [
    "state = df_sell.iloc[0].sku_num[:2]\n",
    "\n",
    "rows = []\n",
    "cols = ['year', 'state', 'apple_sold', 'apple_stolen', 'pen_sold', 'pen_stolen']\n",
    "cur_year = int(df_supply.iloc[0]['date'][:4])"
   ]
  },
  {
   "cell_type": "code",
   "execution_count": 12,
   "id": "ab75924a-497b-4d6f-bd01-e4fcaf96f63e",
   "metadata": {},
   "outputs": [
    {
     "data": {
      "text/html": [
       "<div>\n",
       "<style scoped>\n",
       "    .dataframe tbody tr th:only-of-type {\n",
       "        vertical-align: middle;\n",
       "    }\n",
       "\n",
       "    .dataframe tbody tr th {\n",
       "        vertical-align: top;\n",
       "    }\n",
       "\n",
       "    .dataframe thead th {\n",
       "        text-align: right;\n",
       "    }\n",
       "</style>\n",
       "<table border=\"1\" class=\"dataframe\">\n",
       "  <thead>\n",
       "    <tr style=\"text-align: right;\">\n",
       "      <th></th>\n",
       "      <th>year</th>\n",
       "      <th>state</th>\n",
       "      <th>apple_sold</th>\n",
       "      <th>apple_stolen</th>\n",
       "      <th>pen_sold</th>\n",
       "      <th>pen_stolen</th>\n",
       "    </tr>\n",
       "  </thead>\n",
       "  <tbody>\n",
       "    <tr>\n",
       "      <th>0</th>\n",
       "      <td>2006</td>\n",
       "      <td>MS</td>\n",
       "      <td>681341</td>\n",
       "      <td>8</td>\n",
       "      <td>52555</td>\n",
       "      <td>7</td>\n",
       "    </tr>\n",
       "    <tr>\n",
       "      <th>1</th>\n",
       "      <td>2007</td>\n",
       "      <td>MS</td>\n",
       "      <td>1362622</td>\n",
       "      <td>12</td>\n",
       "      <td>104494</td>\n",
       "      <td>8</td>\n",
       "    </tr>\n",
       "    <tr>\n",
       "      <th>2</th>\n",
       "      <td>2008</td>\n",
       "      <td>MS</td>\n",
       "      <td>2047732</td>\n",
       "      <td>6</td>\n",
       "      <td>156526</td>\n",
       "      <td>5</td>\n",
       "    </tr>\n",
       "    <tr>\n",
       "      <th>3</th>\n",
       "      <td>2009</td>\n",
       "      <td>MS</td>\n",
       "      <td>2730028</td>\n",
       "      <td>8</td>\n",
       "      <td>208937</td>\n",
       "      <td>7</td>\n",
       "    </tr>\n",
       "    <tr>\n",
       "      <th>4</th>\n",
       "      <td>2010</td>\n",
       "      <td>MS</td>\n",
       "      <td>3410439</td>\n",
       "      <td>5</td>\n",
       "      <td>261537</td>\n",
       "      <td>12</td>\n",
       "    </tr>\n",
       "  </tbody>\n",
       "</table>\n",
       "</div>"
      ],
      "text/plain": [
       "   year state  apple_sold  apple_stolen  pen_sold  pen_stolen\n",
       "0  2006    MS      681341             8     52555           7\n",
       "1  2007    MS     1362622            12    104494           8\n",
       "2  2008    MS     2047732             6    156526           5\n",
       "3  2009    MS     2730028             8    208937           7\n",
       "4  2010    MS     3410439             5    261537          12"
      ]
     },
     "execution_count": 12,
     "metadata": {},
     "output_type": "execute_result"
    }
   ],
   "source": [
    "a_sup, p_sup = 0, 0\n",
    "\n",
    "for i, row in enumerate(df_supply.itertuples(index=False)):\n",
    "    a_sup += row.apple\n",
    "    p_sup += row.pen\n",
    "\n",
    "    if i % 24 == 23:\n",
    "        y_end = f'{cur_year}-12-31'\n",
    "        daily = df_daily[df_daily.date == y_end]\n",
    "        inv = df_inventory[df_inventory.date == y_end]\n",
    "        stolen = df_stolen[df_stolen.date == y_end]\n",
    "\n",
    "        if not daily.empty and not inv.empty and not stolen.empty:\n",
    "            a_sold = a_sup - int(daily.iloc[0].apple)\n",
    "            p_sold = p_sup - int(daily.iloc[0].pen)\n",
    "            a_stolen = int(stolen.iloc[0].apple)\n",
    "            p_stolen = int(stolen.iloc[0].pen)\n",
    "\n",
    "            rows.append([cur_year, state, a_sold, a_stolen, p_sold, p_stolen])\n",
    "\n",
    "        cur_year += 1\n",
    "\n",
    "year_df = pd.DataFrame(rows, columns=cols)\n",
    "year_df.head()"
   ]
  }
 ],
 "metadata": {
  "kernelspec": {
   "display_name": "Python 3 (ipykernel)",
   "language": "python",
   "name": "python3"
  },
  "language_info": {
   "codemirror_mode": {
    "name": "ipython",
    "version": 3
   },
   "file_extension": ".py",
   "mimetype": "text/x-python",
   "name": "python",
   "nbconvert_exporter": "python",
   "pygments_lexer": "ipython3",
   "version": "3.12.1"
  }
 },
 "nbformat": 4,
 "nbformat_minor": 5
}
